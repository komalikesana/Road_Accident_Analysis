{
 "cells": [
  {
   "cell_type": "code",
   "execution_count": 6,
   "id": "e7d9a3d7",
   "metadata": {},
   "outputs": [
    {
     "name": "stdout",
     "output_type": "stream",
     "text": [
      "✅ Randomly trimmed dataset saved as 'US_Accidents_Trimmed_100k.csv\n"
     ]
    }
   ],
   "source": [
    "import pandas as pd\n",
    "# Load full dataset\n",
    "df = pd.read_csv(r'C:\\Users\\PURNA TEJITHA\\Downloads\\archive\\US_Accidents_March23.csv')  # Replace with your actual file name\n",
    "# Randomly sample 100,000 rows\n",
    "trimmed_df = df.sample(n=100000, random_state=42)  # random_state for reproducibility\n",
    "# Save to a new file\n",
    "trimmed_df.to_csv('US_Accidents_Trimmed_100k.csv', index=False)\n",
    "print(\"✅ Randomly trimmed dataset saved as 'US_Accidents_Trimmed_100k.csv\")"
   ]
  },
  {
   "cell_type": "code",
   "execution_count": 7,
   "id": "58cb86aa",
   "metadata": {},
   "outputs": [
    {
     "name": "stdout",
     "output_type": "stream",
     "text": [
      "                ID   Source  Severity                     Start_Time  \\\n",
      "7133276  A-7182628  Source1         1            2020-04-17 09:29:30   \n",
      "5363845  A-5404588  Source1         2  2022-04-21 10:01:00.000000000   \n",
      "155993    A-156000  Source3         3            2016-08-12 16:45:00   \n",
      "1861414  A-1871277  Source2         3            2019-09-20 15:22:16   \n",
      "2021359  A-2031222  Source2         2            2019-06-03 16:55:43   \n",
      "\n",
      "                              End_Time  Start_Lat   Start_Lng    End_Lat  \\\n",
      "7133276            2020-04-17 10:29:30  26.706900  -80.119360  26.706900   \n",
      "5363845  2022-04-21 11:44:08.000000000  38.781024 -121.265820  38.780377   \n",
      "155993             2016-08-12 17:15:00  33.985249  -84.269348        NaN   \n",
      "1861414            2019-09-20 15:56:00  47.118706 -122.556908        NaN   \n",
      "2021359            2019-06-03 18:12:09  33.451355 -111.890343        NaN   \n",
      "\n",
      "            End_Lng  Distance(mi)  ... Roundabout Station   Stop  \\\n",
      "7133276  -80.119360         0.000  ...      False   False  False   \n",
      "5363845 -121.265815         0.045  ...      False   False   True   \n",
      "155993          NaN         0.000  ...      False   False  False   \n",
      "1861414         NaN         0.000  ...      False   False  False   \n",
      "2021359         NaN         0.000  ...      False   False  False   \n",
      "\n",
      "        Traffic_Calming Traffic_Signal Turning_Loop Sunrise_Sunset  \\\n",
      "7133276           False           True        False            Day   \n",
      "5363845           False          False        False            Day   \n",
      "155993            False          False        False            Day   \n",
      "1861414           False          False        False            Day   \n",
      "2021359           False          False        False            Day   \n",
      "\n",
      "        Civil_Twilight Nautical_Twilight Astronomical_Twilight  \n",
      "7133276            Day               Day                   Day  \n",
      "5363845            Day               Day                   Day  \n",
      "155993             Day               Day                   Day  \n",
      "1861414            Day               Day                   Day  \n",
      "2021359            Day               Day                   Day  \n",
      "\n",
      "[5 rows x 46 columns]\n"
     ]
    }
   ],
   "source": [
    "print(trimmed_df.head())"
   ]
  },
  {
   "cell_type": "code",
   "execution_count": null,
   "id": "2775d5b9",
   "metadata": {},
   "outputs": [],
   "source": []
  }
 ],
 "metadata": {
  "kernelspec": {
   "display_name": "Python 3 (ipykernel)",
   "language": "python",
   "name": "python3"
  },
  "language_info": {
   "codemirror_mode": {
    "name": "ipython",
    "version": 3
   },
   "file_extension": ".py",
   "mimetype": "text/x-python",
   "name": "python",
   "nbconvert_exporter": "python",
   "pygments_lexer": "ipython3",
   "version": "3.11.4"
  }
 },
 "nbformat": 4,
 "nbformat_minor": 5
}
